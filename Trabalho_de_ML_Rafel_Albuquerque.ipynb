{
  "nbformat": 4,
  "nbformat_minor": 0,
  "metadata": {
    "colab": {
      "provenance": [],
      "authorship_tag": "ABX9TyOwxpDSzm1oCu8lRCPAam+Y",
      "include_colab_link": true
    },
    "kernelspec": {
      "name": "python3",
      "display_name": "Python 3"
    },
    "language_info": {
      "name": "python"
    }
  },
  "cells": [
    {
      "cell_type": "markdown",
      "metadata": {
        "id": "view-in-github",
        "colab_type": "text"
      },
      "source": [
        "<a href=\"https://colab.research.google.com/github/RPAlbuquerque/Data-Science-UFRGS/blob/main/Trabalho_de_ML_Rafel_Albuquerque.ipynb\" target=\"_parent\"><img src=\"https://colab.research.google.com/assets/colab-badge.svg\" alt=\"Open In Colab\"/></a>"
      ]
    },
    {
      "cell_type": "code",
      "execution_count": 1,
      "metadata": {
        "colab": {
          "base_uri": "https://localhost:8080/"
        },
        "id": "NxVftHIcvN54",
        "outputId": "239b78b9-8ab9-44a7-9882-bb5b2241a0a7"
      },
      "outputs": [
        {
          "output_type": "stream",
          "name": "stdout",
          "text": [
            "Requirement already satisfied: pandas in /usr/local/lib/python3.10/dist-packages (1.5.3)\n",
            "Requirement already satisfied: python-dateutil>=2.8.1 in /usr/local/lib/python3.10/dist-packages (from pandas) (2.8.2)\n",
            "Requirement already satisfied: pytz>=2020.1 in /usr/local/lib/python3.10/dist-packages (from pandas) (2023.3.post1)\n",
            "Requirement already satisfied: numpy>=1.21.0 in /usr/local/lib/python3.10/dist-packages (from pandas) (1.23.5)\n",
            "Requirement already satisfied: six>=1.5 in /usr/local/lib/python3.10/dist-packages (from python-dateutil>=2.8.1->pandas) (1.16.0)\n"
          ]
        }
      ],
      "source": [
        "!pip install pandas\n"
      ]
    },
    {
      "cell_type": "markdown",
      "source": [
        "#Importing libraries and mobility database of the city of Salvador:"
      ],
      "metadata": {
        "id": "uA7iEDh51Y3B"
      }
    },
    {
      "cell_type": "code",
      "source": [
        "import pandas as pd\n",
        "\n",
        "# Especifique o caminho para o arquivo CSV\n",
        "arquivo_csv = 'https://raw.githubusercontent.com/RPAlbuquerque/Data-Science-UFRGS/main/20231101_salvador_metrics.csv'\n",
        "\n",
        "# Carregar o arquivo CSV em um DataFrame\n",
        "df = pd.read_csv(arquivo_csv)\n"
      ],
      "metadata": {
        "id": "7qXkgCLVv5NQ"
      },
      "execution_count": 2,
      "outputs": []
    },
    {
      "cell_type": "code",
      "source": [
        "print(df.head())\n"
      ],
      "metadata": {
        "colab": {
          "base_uri": "https://localhost:8080/"
        },
        "id": "ngKyTz4YwCUY",
        "outputId": "1b11ebf1-4fe7-4b19-b03c-57061839d791"
      },
      "execution_count": 3,
      "outputs": [
        {
          "output_type": "stream",
          "name": "stdout",
          "text": [
            "               poi Age Range Socioeconomic Level Gender  Unique Visitors  \\\n",
            "0  292740805100008     40_49                   B      F              847   \n",
            "1  292740805100008     60_69                   C      F             1407   \n",
            "2  292740805100008     70_79                   A      F               41   \n",
            "3  292740805100008     30_39                   C      M             4735   \n",
            "4  292740805100008     25_29                   C      M             2621   \n",
            "\n",
            "   Unique Visitors Week 1  Unique Visitors Week 2  Unique Visitors Week 3  \\\n",
            "0                     371                     402                     483   \n",
            "1                     616                     669                     802   \n",
            "2                      18                      19                      23   \n",
            "3                    2051                    2228                    2705   \n",
            "4                    1133                    1231                    1499   \n",
            "\n",
            "   Unique Visitors Week 4  Visits  ...  Visits Sunday Block 1  \\\n",
            "0                     279  119616  ...                    260   \n",
            "1                     463  198566  ...                    432   \n",
            "2                      13    5905  ...                     12   \n",
            "3                    1580  667310  ...                   1453   \n",
            "4                     877  369586  ...                    799   \n",
            "\n",
            "   Visits Sunday Block 2  Visits Sunday Block 3  Visits Sunday Block 4  \\\n",
            "0                    729                    701                    703   \n",
            "1                   1208                   1161                   1165   \n",
            "2                     35                     34                     34   \n",
            "3                   4031                   3892                   3872   \n",
            "4                   2231                   2155                   2146   \n",
            "\n",
            "   Dwell time (mins)  Dwell time (mins) Week 1  Dwell time (mins) Week 2  \\\n",
            "0          26.200624                 32.167345                 25.794360   \n",
            "1          70.245644                170.628994                107.295308   \n",
            "2          27.600506                 20.165669                 32.868243   \n",
            "3          35.207926                 37.849924                 37.538943   \n",
            "4          37.159162                 48.237785                 36.077934   \n",
            "\n",
            "   Dwell time (mins) Week 3  Dwell time (mins) Week 4   Frequency  \n",
            "0                 31.441713                 31.427088  141.223140  \n",
            "1                 41.694419                 83.651144  141.127221  \n",
            "2                 26.252041                 41.628204  144.024390  \n",
            "3                 40.261425                 49.970112  140.931362  \n",
            "4                 41.674549                 45.765819  141.009538  \n",
            "\n",
            "[5 rows x 58 columns]\n"
          ]
        }
      ]
    },
    {
      "cell_type": "markdown",
      "source": [
        "##Selecting the POI column with census codes:"
      ],
      "metadata": {
        "id": "8YwYSOO21fuh"
      }
    },
    {
      "cell_type": "code",
      "source": [
        "coluna = df['poi']\n",
        "print(df['poi'])"
      ],
      "metadata": {
        "colab": {
          "base_uri": "https://localhost:8080/"
        },
        "id": "SbFEpWL_xKD_",
        "outputId": "55e51442-c846-4473-eb14-68866afc3721"
      },
      "execution_count": 7,
      "outputs": [
        {
          "output_type": "stream",
          "name": "stdout",
          "text": [
            "0         292740805100008\n",
            "1         292740805100008\n",
            "2         292740805100008\n",
            "3         292740805100008\n",
            "4         292740805100008\n",
            "               ...       \n",
            "364155    292740805210313\n",
            "364156    292740805210313\n",
            "364157    292740805210313\n",
            "364158    292740805210313\n",
            "364159    292740805210313\n",
            "Name: poi, Length: 364160, dtype: int64\n"
          ]
        }
      ]
    },
    {
      "cell_type": "markdown",
      "source": [
        "##Selecting the census tract (CD_GEOCODI) 292740805270144.\n",
        "##Source: Salvador City Hall ID 54.722"
      ],
      "metadata": {
        "id": "jEkwPf0o0g8o"
      }
    },
    {
      "cell_type": "code",
      "source": [
        "poi_292740805270144 = df[df['poi'] == 292740805270144]\n",
        "print(poi_292740805270144)"
      ],
      "metadata": {
        "colab": {
          "base_uri": "https://localhost:8080/"
        },
        "id": "ftdt2QGtyv8r",
        "outputId": "7ead5275-b5f2-4f02-da74-80e6de0293c6"
      },
      "execution_count": 29,
      "outputs": [
        {
          "output_type": "stream",
          "name": "stdout",
          "text": [
            "                   poi Age Range Socioeconomic Level Gender  Unique Visitors  \\\n",
            "25840  292740805270144     40_49                   B      F               20   \n",
            "25841  292740805270144     60_69                   C      F               33   \n",
            "25842  292740805270144     70_79                   A      F                0   \n",
            "25843  292740805270144     30_39                   C      M              112   \n",
            "25844  292740805270144     25_29                   C      M               62   \n",
            "...                ...       ...                 ...    ...              ...   \n",
            "25915  292740805270144     25_29                   E      M               46   \n",
            "25916  292740805270144   80_plus                   A      M                0   \n",
            "25917  292740805270144     70_79                   C      F               17   \n",
            "25918  292740805270144     18_24                   B      F               18   \n",
            "25919  292740805270144     60_69                   C      M               35   \n",
            "\n",
            "       Unique Visitors Week 1  Unique Visitors Week 2  Unique Visitors Week 3  \\\n",
            "25840                       8                       9                      11   \n",
            "25841                      14                      15                      19   \n",
            "25842                       0                       0                       0   \n",
            "25843                      48                      52                      64   \n",
            "25844                      26                      29                      35   \n",
            "...                       ...                     ...                     ...   \n",
            "25915                      20                      21                      26   \n",
            "25916                       0                       0                       0   \n",
            "25917                       7                       8                      10   \n",
            "25918                       7                       8                      10   \n",
            "25919                      15                      17                      20   \n",
            "\n",
            "       Unique Visitors Week 4  Visits  ...  Visits Sunday Block 1  \\\n",
            "25840                       6    2839  ...                      6   \n",
            "25841                      11    4713  ...                     10   \n",
            "25842                       0     140  ...                      0   \n",
            "25843                      37   15839  ...                     34   \n",
            "25844                      20    8772  ...                     18   \n",
            "...                       ...     ...  ...                    ...   \n",
            "25915                      15    6538  ...                     14   \n",
            "25916                       0      64  ...                      0   \n",
            "25917                       5    2523  ...                      5   \n",
            "25918                       5    2539  ...                      5   \n",
            "25919                      11    5067  ...                     11   \n",
            "\n",
            "       Visits Sunday Block 2  Visits Sunday Block 3  Visits Sunday Block 4  \\\n",
            "25840                     17                     16                     16   \n",
            "25841                     28                     27                     27   \n",
            "25842                      0                      0                      0   \n",
            "25843                     95                     92                     91   \n",
            "25844                     52                     51                     50   \n",
            "...                      ...                    ...                    ...   \n",
            "25915                     39                     38                     37   \n",
            "25916                      0                      0                      0   \n",
            "25917                     15                     14                     14   \n",
            "25918                     15                     14                     14   \n",
            "25919                     30                     29                     29   \n",
            "\n",
            "       Dwell time (mins)  Dwell time (mins) Week 1  Dwell time (mins) Week 2  \\\n",
            "25840          28.609877                 35.125262                 28.166255   \n",
            "25841          76.705014                186.319016                117.161543   \n",
            "25842          30.138484                 22.019983                 35.890610   \n",
            "25843          38.445436                 41.330377                 40.990800   \n",
            "25844          40.576096                 52.673443                 39.395446   \n",
            "...                  ...                       ...                       ...   \n",
            "25915          40.576096                 52.673443                 39.395446   \n",
            "25916          50.456552                 22.211541                 20.563453   \n",
            "25917          30.138484                 22.019983                 35.890610   \n",
            "25918          38.121704                 42.556162                 55.072450   \n",
            "25919          71.094152                170.055861                103.944849   \n",
            "\n",
            "       Dwell time (mins) Week 3  Dwell time (mins) Week 4   Frequency  \n",
            "25840                 34.332905                 34.316935  141.950000  \n",
            "25841                 45.528389                 91.343203  142.818182  \n",
            "25842                 28.666022                 45.456085    0.000000  \n",
            "25843                 43.963625                 54.565064  141.419643  \n",
            "25844                 45.506691                 49.974170  141.483871  \n",
            "...                         ...                       ...         ...  \n",
            "25915                 45.506691                 49.974170  142.130435  \n",
            "25916                 46.807764                107.507206    0.000000  \n",
            "25917                 28.666022                 45.456085  148.411765  \n",
            "25918                 49.250366                 45.640356  141.055556  \n",
            "25919                 44.856615                 76.672058  144.771429  \n",
            "\n",
            "[80 rows x 58 columns]\n"
          ]
        }
      ]
    }
  ]
}